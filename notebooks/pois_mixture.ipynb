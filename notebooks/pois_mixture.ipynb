{
 "cells": [
  {
   "cell_type": "code",
   "execution_count": 1,
   "metadata": {},
   "outputs": [],
   "source": [
    "import numpy as np \n",
    "import matplotlib.pyplot as plt\n",
    "\n",
    "%matplotlib inline"
   ]
  },
  {
   "cell_type": "markdown",
   "metadata": {},
   "source": [
    "Here we simulate a simple mixture of Poissons (initially bivariate) from the distribution:\n",
    "\n",
    "$$ X_i \\sim \\pi \\text{Pois}(\\lambda_1) + (1 - \\pi)\\text{Pois}(\\lambda_2)$$"
   ]
  },
  {
   "cell_type": "code",
   "execution_count": 36,
   "metadata": {},
   "outputs": [
    {
     "data": {
      "text/plain": [
       "Text(0, 0.5, 'Entries')"
      ]
     },
     "execution_count": 36,
     "metadata": {},
     "output_type": "execute_result"
    },
    {
     "data": {
      "image/png": "[encoded data removed]",
      "text/plain": [
       "<Figure size 216x216 with 1 Axes>"
      ]
     },
     "metadata": {
      "needs_background": "light"
     },
     "output_type": "display_data"
    }
   ],
   "source": [
    "def sim_pois_mixture(rs, pis, size=1000):\n",
    "    \"\"\"Simulate an arbitrary Poisson mixture.\"\"\"\n",
    "    assert(np.sum(pis) == 1.0)\n",
    "    assert(rs.size == pis.size)\n",
    "    k = rs.size\n",
    "    zs = np.random.multinomial(size, pvals=pis)\n",
    "    xs = []\n",
    "    for j in range(k):\n",
    "        xs.append(np.random.poisson(lam=rs[j], size=zs[j]))\n",
    "    xs = np.hstack(xs)\n",
    "    return(xs,zs)\n",
    "    \n",
    "# Running the simulation \n",
    "xs, zs = sim_pois_mixture(rs=np.array([1., 5.]), pis=np.array([0.5,0.5]), size=10000);\n",
    "\n",
    "# Generating the plot\n",
    "fig, ax = plt.subplots(1, 1, figsize=(3,3))\n",
    "ax.hist(xs[:zs[0]], bins='auto');\n",
    "ax.hist(xs[zs[0]:], bins='auto');\n",
    "ax.set_xlabel(r'$X_i$', fontsize=14)\n",
    "ax.set_ylabel(r'Entries', fontsize=14)"
   ]
  }
 ],
 "metadata": {
  "kernelspec": {
   "display_name": "Python 3",
   "language": "python",
   "name": "python3"
  },
  "language_info": {
   "codemirror_mode": {
    "name": "ipython",
    "version": 3
   },
   "file_extension": ".py",
   "mimetype": "text/x-python",
   "name": "python",
   "nbconvert_exporter": "python",
   "pygments_lexer": "ipython3",
   "version": "3.7.0"
  }
 },
 "nbformat": 4,
 "nbformat_minor": 4
}
