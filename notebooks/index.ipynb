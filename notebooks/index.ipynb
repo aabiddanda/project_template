{
 "cells": [
  {
   "source": [
    "# Project Overview\n",
    "\n",
    "This is an attempt to better document my analyses using github and\n",
    "jupyter-notebooks that have been converted into an ipynb website. "
   ],
   "cell_type": "markdown",
   "metadata": {}
  },
  {
   "source": [
    "* [Poisson Mixture Simulation](./pois_mixture.html)"
   ],
   "cell_type": "markdown",
   "metadata": {}
  }
 ],
 "metadata": {
  "kernelspec": {
   "display_name": "Python 3",
   "language": "python",
   "name": "python3"
  },
  "language_info": {
   "codemirror_mode": {
    "name": "ipython",
    "version": 3
   },
   "file_extension": ".py",
   "mimetype": "text/x-python",
   "name": "python",
   "nbconvert_exporter": "python",
   "pygments_lexer": "ipython3",
   "version": "3.7.0-final"
  }
 },
 "nbformat": 4,
 "nbformat_minor": 4
}
